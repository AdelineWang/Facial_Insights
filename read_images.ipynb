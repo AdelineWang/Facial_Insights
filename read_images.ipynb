{
 "cells": [
  {
   "cell_type": "code",
   "execution_count": 1,
   "metadata": {
    "collapsed": true
   },
   "outputs": [],
   "source": [
    "from __future__ import absolute_import\n",
    "from __future__ import division\n",
    "from __future__ import print_function\n",
    "\n",
    "import argparse\n",
    "import os.path\n",
    "import sys\n",
    "import time\n",
    "\n",
    "import tensorflow as tf\n"
   ]
  },
  {
   "cell_type": "code",
   "execution_count": 2,
   "metadata": {
    "collapsed": true
   },
   "outputs": [],
   "source": [
    "TRAIN_FILE = 'train.tfrecords'"
   ]
  },
  {
   "cell_type": "code",
   "execution_count": 63,
   "metadata": {
    "collapsed": true
   },
   "outputs": [],
   "source": [
    "def read_and_decode(filename_queue):\n",
    "    reader = tf.TFRecordReader()\n",
    "    _, serialized_example = reader.read(filename_queue)\n",
    "    features = tf.parse_single_example(\n",
    "      serialized_example,\n",
    "      # Defaults are not specified since both keys are required.\n",
    "      features={\n",
    "          'image_raw': tf.FixedLenFeature([],tf.string),\n",
    "          'age': tf.FixedLenFeature([], tf.int64),\n",
    "          'gender':tf.FixedLenFeature([], tf.int64)\n",
    "      })\n",
    "\n",
    "    # Convert from a scalar string tensor (whose single string has\n",
    "    # length mnist.IMAGE_PIXELS) to a uint8 tensor with shape\n",
    "    # [mnist.IMAGE_PIXELS].\n",
    "    image = tf.image.decode_jpeg(features['image_raw'], channels=3)\n",
    "    image = tf.image.resize_images(image,[128,128])\n",
    "    #image = tf.cast(image,tf.uint8)\n",
    "    # image.set_shape([mnist.IMAGE_PIXELS])\n",
    "\n",
    "    # OPTIONAL: Could reshape into a 28x28 image and apply distortions\n",
    "    # here.  Since we are not applying any distortions in this\n",
    "    # example, and the next step expects the image to be flattened\n",
    "    # into a vector, we don't bother.\n",
    "\n",
    "    # Convert from [0, 255] -> [-0.5, 0.5] floats.\n",
    "    #image = tf.cast(image, tf.float32) * (1. / 255) - 0.5\n",
    "\n",
    "    # Convert label from a scalar uint8 tensor to an int32 scalar.\n",
    "    age = features['age']#tf.cast(features['age'], tf.int32)\n",
    "    gender = tf.cast(features['gender'], tf.int32)\n",
    "\n",
    "    return image, age, gender\n"
   ]
  },
  {
   "cell_type": "code",
   "execution_count": 64,
   "metadata": {
    "collapsed": true
   },
   "outputs": [],
   "source": [
    "def inputs(train, batch_size, num_epochs):\n",
    "    \"\"\"Reads input data num_epochs times.\n",
    "    Args:\n",
    "    train: Selects between the training (True) and validation (False) data.\n",
    "    batch_size: Number of examples per returned batch.\n",
    "    num_epochs: Number of times to read the input data, or 0/None to\n",
    "       train forever.\n",
    "    Returns:\n",
    "    A tuple (images, labels), where:\n",
    "    * images is a float tensor with shape [batch_size, mnist.IMAGE_PIXELS]\n",
    "      in the range [-0.5, 0.5].\n",
    "    * labels is an int32 tensor with shape [batch_size] with the true label,\n",
    "      a number in the range [0, mnist.NUM_CLASSES).\n",
    "    Note that an tf.train.QueueRunner is added to the graph, which\n",
    "    must be run using e.g. tf.train.start_queue_runners().\n",
    "    \"\"\"\n",
    "    if not num_epochs: num_epochs = None\n",
    "    # filename = os.path.join(FLAGS.train_dir,\n",
    "    #                       TRAIN_FILE if train else VALIDATION_FILE)\n",
    "\n",
    "    with tf.name_scope('input'):\n",
    "        filename_queue = tf.train.string_input_producer(\n",
    "            [TRAIN_FILE], num_epochs=num_epochs)\n",
    "\n",
    "        # Even when reading in multiple threads, share the filename\n",
    "        # queue.\n",
    "        image, age, gender = read_and_decode(filename_queue)\n",
    "\n",
    "        # Shuffle the examples and collect them into batch_size batches.\n",
    "        # (Internally uses a RandomShuffleQueue.)\n",
    "        # We run this in two threads to avoid being a bottleneck.\n",
    "        images, sparse_labels = tf.train.shuffle_batch(\n",
    "            [image, age], batch_size=batch_size, num_threads=2,\n",
    "            capacity=1000 + 3 * batch_size,\n",
    "            # Ensures a minimum amount of shuffling of examples.\n",
    "            min_after_dequeue=1000)\n",
    "\n",
    "        return images, sparse_labels"
   ]
  },
  {
   "cell_type": "code",
   "execution_count": 65,
   "metadata": {
    "collapsed": true
   },
   "outputs": [],
   "source": [
    "def run_training():\n",
    "  \"\"\"Train MNIST for a number of steps.\"\"\"\n",
    "\n",
    "  # Tell TensorFlow that the model will be built into the default Graph.\n",
    "  with tf.Graph().as_default():\n",
    "    # Input images and labels.\n",
    "    images, labels = inputs(train=True, batch_size=16,\n",
    "                            num_epochs=1)\n",
    "\n",
    "    # Build a Graph that computes predictions from the inference model.\n",
    "    #logits = mnist.inference(images,\n",
    "    #                         FLAGS.hidden1,\n",
    "    #                         FLAGS.hidden2)\n",
    "\n",
    "    # Add to the Graph the loss calculation.\n",
    "    #loss = mnist.loss(logits, labels)\n",
    "\n",
    "    # Add to the Graph operations that train the model.\n",
    "    #train_op = mnist.training(loss, FLAGS.learning_rate)\n",
    "\n",
    "    # The op for initializing the variables.\n",
    "    init_op = tf.group(tf.global_variables_initializer(),\n",
    "                       tf.local_variables_initializer())\n",
    "\n",
    "    # Create a session for running operations in the Graph.\n",
    "    sess = tf.Session()\n",
    "\n",
    "    # Initialize the variables (the trained variables and the\n",
    "    # epoch counter).\n",
    "    sess.run(init_op)\n",
    "\n",
    "    # Start input enqueue threads.\n",
    "    coord = tf.train.Coordinator()\n",
    "    threads = tf.train.start_queue_runners(sess=sess, coord=coord)\n",
    "\n",
    "    try:\n",
    "      step = 0\n",
    "      while not coord.should_stop():\n",
    "        start_time = time.time()\n",
    "\n",
    "        # Run one step of the model.  The return values are\n",
    "        # the activations from the `train_op` (which is\n",
    "        # discarded) and the `loss` op.  To inspect the values\n",
    "        # of your ops or variables, you may include them in\n",
    "        # the list passed to sess.run() and the value tensors\n",
    "        # will be returned in the tuple from the call.\n",
    "        #_, loss_value = sess.run([train_op, loss])\n",
    "        images_val = sess.run([images])\n",
    "        print(images_val.shape)\n",
    "        duration = time.time() - start_time\n",
    "\n",
    "        # Print an overview fairly often.\n",
    "        #if step % 100 == 0:\n",
    "        #  print('Step %d: loss = %.2f (%.3f sec)' % (step, loss_value,\n",
    "        #                                             duration))\n",
    "        step += 1\n",
    "    except tf.errors.OutOfRangeError:\n",
    "      print('Done training for %d epochs, %d steps.' % (1, step))\n",
    "    finally:\n",
    "      # When done, ask the threads to stop.\n",
    "      coord.request_stop()\n",
    "\n",
    "    # Wait for threads to finish.\n",
    "    coord.join(threads)\n",
    "    sess.close()"
   ]
  },
  {
   "cell_type": "code",
   "execution_count": 66,
   "metadata": {},
   "outputs": [],
   "source": [
    "    images, labels = inputs(train=True, batch_size=16,\n",
    "                            num_epochs=1)\n",
    "\n",
    "    # Build a Graph that computes predictions from the inference model.\n",
    "    #logits = mnist.inference(images,\n",
    "    #                         FLAGS.hidden1,\n",
    "    #                         FLAGS.hidden2)\n",
    "\n",
    "    # Add to the Graph the loss calculation.\n",
    "    #loss = mnist.loss(logits, labels)\n",
    "\n",
    "    # Add to the Graph operations that train the model.\n",
    "    #train_op = mnist.training(loss, FLAGS.learning_rate)\n",
    "\n",
    "    # The op for initializing the variables.\n",
    "    init_op = tf.group(tf.global_variables_initializer(),\n",
    "                       tf.local_variables_initializer())\n",
    "\n",
    "    # Create a session for running operations in the Graph.\n",
    "    sess = tf.Session()\n",
    "\n",
    "    # Initialize the variables (the trained variables and the\n",
    "    # epoch counter).\n",
    "    sess.run(init_op)\n",
    "\n",
    "    # Start input enqueue threads.\n",
    "    coord = tf.train.Coordinator()\n",
    "    threads = tf.train.start_queue_runners(sess=sess, coord=coord)"
   ]
  },
  {
   "cell_type": "code",
   "execution_count": 69,
   "metadata": {
    "collapsed": true
   },
   "outputs": [],
   "source": [
    "images_val,age_val = sess.run([images,labels])"
   ]
  },
  {
   "cell_type": "code",
   "execution_count": 76,
   "metadata": {},
   "outputs": [
    {
     "data": {
      "text/plain": [
       "(128, 128, 3)"
      ]
     },
     "execution_count": 76,
     "metadata": {},
     "output_type": "execute_result"
    }
   ],
   "source": [
    "images_val[0].shape"
   ]
  },
  {
   "cell_type": "code",
   "execution_count": 71,
   "metadata": {
    "collapsed": true
   },
   "outputs": [],
   "source": [
    "import matplotlib.pyplot as plt"
   ]
  },
  {
   "cell_type": "code",
   "execution_count": 90,
   "metadata": {},
   "outputs": [
    {
     "data": {
      "text/plain": [
       "<matplotlib.image.AxesImage at 0x7ff2a52fad50>"
      ]
     },
     "execution_count": 90,
     "metadata": {},
     "output_type": "execute_result"
    }
   ],
   "source": [
    "plt.imshow(images_val[6]/255.0)"
   ]
  },
  {
   "cell_type": "code",
   "execution_count": 91,
   "metadata": {},
   "outputs": [
    {
     "data": {
      "image/png": "[encoded data removed]",
      "text/plain": [
       "<matplotlib.figure.Figure at 0x7ff2a5355890>"
      ]
     },
     "metadata": {},
     "output_type": "display_data"
    }
   ],
   "source": [
    "plt.show()"
   ]
  },
  {
   "cell_type": "code",
   "execution_count": 18,
   "metadata": {},
   "outputs": [
    {
     "name": "stdout",
     "output_type": "stream",
     "text": [
      "INFO:tensorflow:Error reported to Coordinator: <class 'tensorflow.python.framework.errors_impl.CancelledError'>, Enqueue operation was cancelled\n",
      "\t [[Node: input/shuffle_batch/random_shuffle_queue_enqueue = QueueEnqueueV2[Tcomponents=[DT_UINT8, DT_INT32], timeout_ms=-1, _device=\"/job:localhost/replica:0/task:0/device:CPU:0\"](input/shuffle_batch/random_shuffle_queue, input/Cast/_15, input/Cast_1/_17)]]\n"
     ]
    }
   ],
   "source": [
    "sess.close()"
   ]
  },
  {
   "cell_type": "code",
   "execution_count": null,
   "metadata": {
    "collapsed": true
   },
   "outputs": [],
   "source": []
  }
 ],
 "metadata": {
  "kernelspec": {
   "display_name": "Python 2",
   "language": "python",
   "name": "python2"
  },
  "language_info": {
   "codemirror_mode": {
    "name": "ipython",
    "version": 2
   },
   "file_extension": ".py",
   "mimetype": "text/x-python",
   "name": "python",
   "nbconvert_exporter": "python",
   "pygments_lexer": "ipython2",
   "version": "2.7.14"
  }
 },
 "nbformat": 4,
 "nbformat_minor": 2
}
