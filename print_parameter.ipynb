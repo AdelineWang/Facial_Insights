{
 "cells": [
  {
   "cell_type": "code",
   "execution_count": 1,
   "metadata": {
    "collapsed": true
   },
   "outputs": [],
   "source": [
    "import tensorflow as tf\n",
    "from resnet_model import face_resnet_v2_generator"
   ]
  },
  {
   "cell_type": "code",
   "execution_count": 2,
   "metadata": {
    "collapsed": true
   },
   "outputs": [],
   "source": [
    "def _get_bn_vars(sess):\n",
    "    \"Return values of internal BatchNorm variables\"\n",
    "    beta = None\n",
    "    gamma = None\n",
    "    moving_mean = None\n",
    "    moving_variance = None\n",
    "    for v in tf.global_variables():\n",
    "        if v.name == \"batch_normalization/beta:0\":\n",
    "            beta = sess.run(v)\n",
    "        elif v.name == \"batch_normalization/gamma:0\":\n",
    "            gamma = sess.run(v)\n",
    "        elif v.name == \"batch_normalization/moving_mean:0\":\n",
    "            moving_mean = sess.run(v)\n",
    "        elif v.name == \"batch_normalization/moving_variance:0\":\n",
    "            moving_variance = sess.run(v)\n",
    "    return beta, gamma, moving_mean, moving_variance"
   ]
  },
  {
   "cell_type": "code",
   "execution_count": 3,
   "metadata": {
    "collapsed": true
   },
   "outputs": [],
   "source": [
    "sess=tf.Session()"
   ]
  },
  {
   "cell_type": "code",
   "execution_count": 4,
   "metadata": {
    "collapsed": true
   },
   "outputs": [],
   "source": [
    "face_resnet=face_resnet_v2_generator(101,'channels_first')"
   ]
  },
  {
   "cell_type": "code",
   "execution_count": 5,
   "metadata": {},
   "outputs": [],
   "source": [
    "image=tf.placeholder(tf.float32,shape=[None,64,64,3])\n",
    "train_mode = tf.placeholder(tf.bool)\n",
    "logits = face_resnet(image,train_mode)\n",
    "global_step = tf.Variable(0,name='global_step',trainable=False)\n",
    "init_op=tf.group(tf.global_variables_initializer(),tf.local_variables_initializer())\n",
    "sess.run(init_op)"
   ]
  },
  {
   "cell_type": "code",
   "execution_count": 6,
   "metadata": {},
   "outputs": [],
   "source": [
    "saver=tf.train.Saver()"
   ]
  },
  {
   "cell_type": "code",
   "execution_count": 7,
   "metadata": {},
   "outputs": [],
   "source": [
    "beta, gamma, moving_mean, moving_variance = _get_bn_vars(sess)"
   ]
  },
  {
   "cell_type": "code",
   "execution_count": 8,
   "metadata": {},
   "outputs": [
    {
     "name": "stdout",
     "output_type": "stream",
     "text": [
      "[ 0.  0.  0.  0.  0.  0.  0.  0.  0.  0.  0.  0.  0.  0.  0.  0.]\n",
      "[ 1.  1.  1.  1.  1.  1.  1.  1.  1.  1.  1.  1.  1.  1.  1.  1.]\n",
      "[ 0.  0.  0.  0.  0.  0.  0.  0.  0.  0.  0.  0.  0.  0.  0.  0.]\n",
      "[ 1.  1.  1.  1.  1.  1.  1.  1.  1.  1.  1.  1.  1.  1.  1.  1.]\n"
     ]
    }
   ],
   "source": [
    "print(beta)\n",
    "print(gamma)\n",
    "print(moving_mean)\n",
    "print(moving_variance)"
   ]
  },
  {
   "cell_type": "code",
   "execution_count": 9,
   "metadata": {},
   "outputs": [
    {
     "name": "stdout",
     "output_type": "stream",
     "text": [
      "INFO:tensorflow:Restoring parameters from ./models/model.ckpt-1859\n"
     ]
    }
   ],
   "source": [
    "ckpt = tf.train.get_checkpoint_state('./models/')\n",
    "if ckpt and ckpt.model_checkpoint_path:\n",
    "    saver.restore(sess,ckpt.model_checkpoint_path)"
   ]
  },
  {
   "cell_type": "code",
   "execution_count": 10,
   "metadata": {},
   "outputs": [
    {
     "name": "stdout",
     "output_type": "stream",
     "text": [
      "[-0.0275517  -0.12395363 -0.01182774 -0.05015647  0.02828528 -0.03763871\n",
      " -0.044938    0.05675718  0.04511974  0.16343968 -0.03754145 -0.0369263\n",
      "  0.08361129  0.14107491  0.12736066  0.10710721]\n",
      "[ 1.03072608  0.91419107  1.00804102  0.92962807  1.1092279   0.95691186\n",
      "  1.01474869  1.03356481  1.00812161  1.05629396  0.9949578   0.95793682\n",
      "  1.01117671  1.13097143  1.04075575  1.06190968]\n",
      "[-0.070938    0.12820145  0.05121474 -0.17679764  0.0125132  -0.17729104\n",
      "  0.04007599  0.02694571 -0.06966765  0.00472474  0.06226692 -0.24019249\n",
      " -0.03199707  0.00554406  0.01333491  0.02972084]\n",
      "[ 0.03124518  0.08889063  0.01743719  0.08315677  0.01345093  0.07824906\n",
      "  0.04940155  0.01667738  0.02260081  0.01092163  0.1467156   0.34035856\n",
      "  0.01930385  0.00908405  0.01453228  0.02594457]\n"
     ]
    }
   ],
   "source": [
    "beta, gamma, moving_mean, moving_variance = _get_bn_vars(sess)\n",
    "print(beta)\n",
    "print(gamma)\n",
    "print(moving_mean)\n",
    "print(moving_variance)"
   ]
  },
  {
   "cell_type": "code",
   "execution_count": 11,
   "metadata": {},
   "outputs": [
    {
     "data": {
      "text/plain": [
       "1859"
      ]
     },
     "execution_count": 11,
     "metadata": {},
     "output_type": "execute_result"
    }
   ],
   "source": [
    "sess.run(global_step)"
   ]
  },
  {
   "cell_type": "code",
   "execution_count": null,
   "metadata": {
    "collapsed": true
   },
   "outputs": [],
   "source": []
  }
 ],
 "metadata": {
  "kernelspec": {
   "display_name": "Python 2",
   "language": "python",
   "name": "python2"
  },
  "language_info": {
   "codemirror_mode": {
    "name": "ipython",
    "version": 2
   },
   "file_extension": ".py",
   "mimetype": "text/x-python",
   "name": "python",
   "nbconvert_exporter": "python",
   "pygments_lexer": "ipython2",
   "version": "2.7.14"
  }
 },
 "nbformat": 4,
 "nbformat_minor": 2
}
